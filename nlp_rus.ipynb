{
 "cells": [
  {
   "cell_type": "code",
   "execution_count": 1,
   "metadata": {},
   "outputs": [],
   "source": [
    "import pandas as pd\n",
    "import numpy as np\n",
    "import matplotlib.pyplot as plt\n",
    "import matplotlib.mlab as mlab\n",
    "import collections as co\n",
    "from sklearn.feature_extraction.text import CountVectorizer\n",
    "import nltk\n",
    "from nltk.stem.snowball import RussianStemmer"
   ]
  },
  {
   "cell_type": "code",
   "execution_count": 2,
   "metadata": {},
   "outputs": [],
   "source": [
    "#функции, которые нам сегодня пригодятся\n",
    "def count_words(text):\n",
    "    c_text = co.Counter(text)\n",
    "    w=[]\n",
    "    count_w=[]\n",
    "    for i in c_text.most_common():\n",
    "        w.append(i[0])\n",
    "        count_w.append(i[1])\n",
    "    words = pd.DataFrame({'words':w,'counts':count_w})\n",
    "    return words\n",
    "\n",
    "def draw_hist(words,counts):\n",
    "    fig, ax = plt.subplots(figsize=(16,6))\n",
    "    ax.bar(range(len(words)), counts)\n",
    "    ax.set_xticks(range(len(words)))\n",
    "    ax.set_xticklabels(words)\n",
    "    ax.set_title('Most Popular Words')\n"
   ]
  },
  {
   "cell_type": "code",
   "execution_count": 31,
   "metadata": {},
   "outputs": [],
   "source": [
    "#текст взят отсюда http://taom.academy/news/item/77 , просто потому что попался на глаза\n",
    "data = pd.read_csv('./text.txt',sep='\\t',header=None)"
   ]
  },
  {
   "cell_type": "code",
   "execution_count": 4,
   "metadata": {},
   "outputs": [],
   "source": [
    "#очистка данных от цифр и приведение всех слов к нижнему регистру\n",
    "data['text'] = data.iloc[:]\n",
    "\n",
    "data['text'] = data['text'].str.replace('[0-9]+','')\n",
    "data['text'] = data['text'].str.lower()\n",
    "data['array'] = data['text'].str.split('\\W+').tolist()"
   ]
  },
  {
   "cell_type": "code",
   "execution_count": 5,
   "metadata": {},
   "outputs": [],
   "source": [
    "#делаем список из слов\n",
    "text_array = data['array'].tolist()\n",
    "text_array = np.concatenate( text_array, axis=0 )"
   ]
  },
  {
   "cell_type": "code",
   "execution_count": 6,
   "metadata": {},
   "outputs": [],
   "source": [
    "text_array = list( text_array)\n",
    "text_array = list(filter(str.strip, text_array))"
   ]
  },
  {
   "cell_type": "code",
   "execution_count": 7,
   "metadata": {},
   "outputs": [],
   "source": [
    "new_text = count_words(text_array)"
   ]
  },
  {
   "cell_type": "code",
   "execution_count": 8,
   "metadata": {},
   "outputs": [
    {
     "data": {
      "image/png": "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\n",
      "text/plain": [
       "<Figure size 1152x432 with 1 Axes>"
      ]
     },
     "metadata": {
      "needs_background": "light"
     },
     "output_type": "display_data"
    }
   ],
   "source": [
    "draw_hist(new_text.words[:10],new_text.counts[:10])"
   ]
  },
  {
   "cell_type": "markdown",
   "metadata": {},
   "source": [
    "Итак, у нас получилось извлечь из текста информацию о самых популярных словах, но хорошо заметно, что в топ-10 словах присутствуют стоп-слова вроде \"в\", \"на\", \"и\" и тд, которые не несут смысловой нагрузки. Необходимо провести очистку от них!\n",
    "<hr>\n",
    "<p>Благо для этого есть инструменты, которые умеют работать с русским языком\n",
    "</p>\n"
   ]
  },
  {
   "cell_type": "code",
   "execution_count": 9,
   "metadata": {},
   "outputs": [
    {
     "name": "stderr",
     "output_type": "stream",
     "text": [
      "[nltk_data] Downloading package stopwords to /home/sergei/nltk_data...\n",
      "[nltk_data]   Package stopwords is already up-to-date!\n"
     ]
    },
    {
     "data": {
      "text/plain": [
       "True"
      ]
     },
     "execution_count": 9,
     "metadata": {},
     "output_type": "execute_result"
    }
   ],
   "source": [
    "#подгружаем стопслова со всех языков\n",
    "nltk.download('stopwords')"
   ]
  },
  {
   "cell_type": "code",
   "execution_count": 10,
   "metadata": {},
   "outputs": [],
   "source": [
    "stopWords = nltk.corpus.stopwords.words()"
   ]
  },
  {
   "cell_type": "code",
   "execution_count": 11,
   "metadata": {},
   "outputs": [],
   "source": [
    "#создаем два массива: один - с нашими словами, другой - со стопсловами\n",
    "filter_df = pd.DataFrame({'words':text_array})\n",
    "stop_df = pd.DataFrame({'words_stop':stopWords})"
   ]
  },
  {
   "cell_type": "code",
   "execution_count": 12,
   "metadata": {},
   "outputs": [],
   "source": [
    "#выполняем соединение двух массивов по совпадающим словам в левой части\n",
    "filter_df = pd.merge(filter_df\n",
    "                    ,stop_df\n",
    "                    ,how = 'left'\n",
    "                    ,left_on = 'words'\n",
    "                    ,right_on = 'words_stop'\n",
    "                    )[:]"
   ]
  },
  {
   "cell_type": "code",
   "execution_count": 13,
   "metadata": {},
   "outputs": [
    {
     "data": {
      "text/html": [
       "<div>\n",
       "<style scoped>\n",
       "    .dataframe tbody tr th:only-of-type {\n",
       "        vertical-align: middle;\n",
       "    }\n",
       "\n",
       "    .dataframe tbody tr th {\n",
       "        vertical-align: top;\n",
       "    }\n",
       "\n",
       "    .dataframe thead th {\n",
       "        text-align: right;\n",
       "    }\n",
       "</style>\n",
       "<table border=\"1\" class=\"dataframe\">\n",
       "  <thead>\n",
       "    <tr style=\"text-align: right;\">\n",
       "      <th></th>\n",
       "      <th>words</th>\n",
       "      <th>words_stop</th>\n",
       "    </tr>\n",
       "  </thead>\n",
       "  <tbody>\n",
       "    <tr>\n",
       "      <td>0</td>\n",
       "      <td>информируем</td>\n",
       "      <td>NaN</td>\n",
       "    </tr>\n",
       "    <tr>\n",
       "      <td>1</td>\n",
       "      <td>вас</td>\n",
       "      <td>вас</td>\n",
       "    </tr>\n",
       "    <tr>\n",
       "      <td>2</td>\n",
       "      <td>о</td>\n",
       "      <td>о</td>\n",
       "    </tr>\n",
       "    <tr>\n",
       "      <td>3</td>\n",
       "      <td>о</td>\n",
       "      <td>о</td>\n",
       "    </tr>\n",
       "    <tr>\n",
       "      <td>4</td>\n",
       "      <td>о</td>\n",
       "      <td>о</td>\n",
       "    </tr>\n",
       "    <tr>\n",
       "      <td>...</td>\n",
       "      <td>...</td>\n",
       "      <td>...</td>\n",
       "    </tr>\n",
       "    <tr>\n",
       "      <td>279</td>\n",
       "      <td>отвечают</td>\n",
       "      <td>NaN</td>\n",
       "    </tr>\n",
       "    <tr>\n",
       "      <td>280</td>\n",
       "      <td>на</td>\n",
       "      <td>на</td>\n",
       "    </tr>\n",
       "    <tr>\n",
       "      <td>281</td>\n",
       "      <td>на</td>\n",
       "      <td>на</td>\n",
       "    </tr>\n",
       "    <tr>\n",
       "      <td>282</td>\n",
       "      <td>вопросы</td>\n",
       "      <td>NaN</td>\n",
       "    </tr>\n",
       "    <tr>\n",
       "      <td>283</td>\n",
       "      <td>участников</td>\n",
       "      <td>NaN</td>\n",
       "    </tr>\n",
       "  </tbody>\n",
       "</table>\n",
       "<p>284 rows × 2 columns</p>\n",
       "</div>"
      ],
      "text/plain": [
       "           words words_stop\n",
       "0    информируем        NaN\n",
       "1            вас        вас\n",
       "2              о          о\n",
       "3              о          о\n",
       "4              о          о\n",
       "..           ...        ...\n",
       "279     отвечают        NaN\n",
       "280           на         на\n",
       "281           на         на\n",
       "282      вопросы        NaN\n",
       "283   участников        NaN\n",
       "\n",
       "[284 rows x 2 columns]"
      ]
     },
     "execution_count": 13,
     "metadata": {},
     "output_type": "execute_result"
    }
   ],
   "source": [
    "filter_df"
   ]
  },
  {
   "cell_type": "code",
   "execution_count": 14,
   "metadata": {},
   "outputs": [],
   "source": [
    "#отфильтруем по всем совпадающим стопсловам\n",
    "filter_df = filter_df[(filter_df.words_stop.isnull())][:]"
   ]
  },
  {
   "cell_type": "code",
   "execution_count": 15,
   "metadata": {},
   "outputs": [],
   "source": [
    "#выбросим колонку из нанов\n",
    "filter_df.drop(['words_stop'] , axis = 1 , inplace = True)"
   ]
  },
  {
   "cell_type": "code",
   "execution_count": 16,
   "metadata": {},
   "outputs": [
    {
     "data": {
      "text/html": [
       "<div>\n",
       "<style scoped>\n",
       "    .dataframe tbody tr th:only-of-type {\n",
       "        vertical-align: middle;\n",
       "    }\n",
       "\n",
       "    .dataframe tbody tr th {\n",
       "        vertical-align: top;\n",
       "    }\n",
       "\n",
       "    .dataframe thead th {\n",
       "        text-align: right;\n",
       "    }\n",
       "</style>\n",
       "<table border=\"1\" class=\"dataframe\">\n",
       "  <thead>\n",
       "    <tr style=\"text-align: right;\">\n",
       "      <th></th>\n",
       "      <th>words</th>\n",
       "    </tr>\n",
       "  </thead>\n",
       "  <tbody>\n",
       "    <tr>\n",
       "      <td>0</td>\n",
       "      <td>информируем</td>\n",
       "    </tr>\n",
       "    <tr>\n",
       "      <td>8</td>\n",
       "      <td>рамках</td>\n",
       "    </tr>\n",
       "    <tr>\n",
       "      <td>9</td>\n",
       "      <td>открытой</td>\n",
       "    </tr>\n",
       "    <tr>\n",
       "      <td>10</td>\n",
       "      <td>платформы</td>\n",
       "    </tr>\n",
       "    <tr>\n",
       "      <td>11</td>\n",
       "      <td>россия</td>\n",
       "    </tr>\n",
       "    <tr>\n",
       "      <td>...</td>\n",
       "      <td>...</td>\n",
       "    </tr>\n",
       "    <tr>\n",
       "      <td>275</td>\n",
       "      <td>сетях</td>\n",
       "    </tr>\n",
       "    <tr>\n",
       "      <td>278</td>\n",
       "      <td>организаторы</td>\n",
       "    </tr>\n",
       "    <tr>\n",
       "      <td>279</td>\n",
       "      <td>отвечают</td>\n",
       "    </tr>\n",
       "    <tr>\n",
       "      <td>282</td>\n",
       "      <td>вопросы</td>\n",
       "    </tr>\n",
       "    <tr>\n",
       "      <td>283</td>\n",
       "      <td>участников</td>\n",
       "    </tr>\n",
       "  </tbody>\n",
       "</table>\n",
       "<p>177 rows × 1 columns</p>\n",
       "</div>"
      ],
      "text/plain": [
       "            words\n",
       "0     информируем\n",
       "8          рамках\n",
       "9        открытой\n",
       "10      платформы\n",
       "11         россия\n",
       "..            ...\n",
       "275         сетях\n",
       "278  организаторы\n",
       "279      отвечают\n",
       "282       вопросы\n",
       "283    участников\n",
       "\n",
       "[177 rows x 1 columns]"
      ]
     },
     "execution_count": 16,
     "metadata": {},
     "output_type": "execute_result"
    }
   ],
   "source": [
    "filter_df"
   ]
  },
  {
   "cell_type": "code",
   "execution_count": 17,
   "metadata": {},
   "outputs": [],
   "source": [
    "text_array = filter_df['words'].values"
   ]
  },
  {
   "cell_type": "code",
   "execution_count": 18,
   "metadata": {},
   "outputs": [],
   "source": [
    "words = count_words(text_array)"
   ]
  },
  {
   "cell_type": "code",
   "execution_count": 19,
   "metadata": {},
   "outputs": [
    {
     "data": {
      "image/png": "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\n",
      "text/plain": [
       "<Figure size 1152x432 with 1 Axes>"
      ]
     },
     "metadata": {
      "needs_background": "light"
     },
     "output_type": "display_data"
    }
   ],
   "source": [
    "draw_hist(words.words[:10],words.counts[:10])"
   ]
  },
  {
   "cell_type": "markdown",
   "metadata": {},
   "source": [
    "Как мы можем заметить, стопслова действительно исчезли, но если посмотреть на 4 и 5 строчку, видно, что по сути это одно и то же слово, однако у них раазные окончания, поэтому для полноты кортины нужно выполнить стемминг"
   ]
  },
  {
   "cell_type": "code",
   "execution_count": 27,
   "metadata": {},
   "outputs": [],
   "source": [
    "stemming = RussianStemmer()\n",
    "\n",
    "my_words = filter_df['words']\n",
    "stemmed_list = [stemming.stem(word) if word not in stopWords else '' for word in my_words]\n",
    "\n",
    "filter_df['stem_arr'] = stemmed_list"
   ]
  },
  {
   "cell_type": "code",
   "execution_count": 28,
   "metadata": {},
   "outputs": [],
   "source": [
    "stemm_words_count = count_words(filter_df.stem_arr)"
   ]
  },
  {
   "cell_type": "code",
   "execution_count": 29,
   "metadata": {},
   "outputs": [
    {
     "data": {
      "image/png": "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\n",
      "text/plain": [
       "<Figure size 1152x432 with 1 Axes>"
      ]
     },
     "metadata": {
      "needs_background": "light"
     },
     "output_type": "display_data"
    }
   ],
   "source": [
    "draw_hist(stemm_words_count.words[:10],stemm_words_count.counts[:10])"
   ]
  },
  {
   "cell_type": "code",
   "execution_count": null,
   "metadata": {},
   "outputs": [],
   "source": [
    "res = stemm_words_count.words.values"
    "file = open('./'+str('result') + '.xls','w') "
    "file.write(str(res) ) "
   "file.close() "
   ]
  },
  {
   "cell_type": "markdown",
   "metadata": {},
   "source": [
    "Конечно, NLP-алгоритмы еще не идеально работают с русским языком, например, мы видме в топе слово \"котор\", которое скорее всего тоже можно отнести к стоп-словам.\n",
    "\n",
    "Однако, в целом, результат получился удовлетворительный, ведь взглянув даже на топ-5 получившихся стемм, мы можем с большой уверенностью предположить, о чем этот текст"
   ]
  },
  {
   "cell_type": "code",
   "execution_count": null,
   "metadata": {},
   "outputs": [],
   "source": []
  }
 ],
 "metadata": {
  "kernelspec": {
   "display_name": "Python 3",
   "language": "python",
   "name": "python3"
  },
  "language_info": {
   "codemirror_mode": {
    "name": "ipython",
    "version": 3
   },
   "file_extension": ".py",
   "mimetype": "text/x-python",
   "name": "python",
   "nbconvert_exporter": "python",
   "pygments_lexer": "ipython3",
   "version": "3.7.4"
  }
 },
 "nbformat": 4,
 "nbformat_minor": 4
}
